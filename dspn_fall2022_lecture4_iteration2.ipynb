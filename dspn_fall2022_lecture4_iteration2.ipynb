{
 "cells": [
  {
   "cell_type": "markdown",
   "id": "fd584725-b018-44fe-9313-8755d2d0a6be",
   "metadata": {},
   "source": [
    "# Data Science in Psychology & Neuroscience (DSPN): \n",
    "\n",
    "## Lecture 4. Iteration Part 2\n",
    "\n",
    "### Date: September 1, 2022\n",
    "\n",
    "### To-Dos From Last Class:\n",
    "\n",
    "* Download Assignment #1 starter kit from <a href=\"https://github.com/hogeveen-lab/DSPN_Fall2022_git\">github</a>\n",
    "\n",
    "### Today:\n",
    "\n",
    "* 6 more iteration exercises in Python\n",
    "\n",
    "### Homework:\n",
    "\n",
    "* Download Assignment #1 starter kit from <a href=\"https://github.com/hogeveen-lab/DSPN_Fall2022_git\">github</a>"
   ]
  },
  {
   "cell_type": "markdown",
   "id": "5bf932ba-c8bc-421e-afd0-ecc942f2825a",
   "metadata": {},
   "source": [
    "# Iteration\n",
    "\n",
    "## What is it?\n",
    "\n",
    "* Repetition of a behavior\n",
    "\n",
    "<img src='img/iteration.jpg' width=500>\n",
    "\n",
    "##  When is this useful?\n",
    "\n",
    "* Simple tasks that require repetition\n",
    "    * Examples in psychology & neuroscience?\n",
    "        * Repeat across subjects\n",
    "        * Repeat across different sessions\n",
    "        * Repeat across different brain regions (fMRI)\n",
    "        * Repeat across different electrodes (EEG)\n",
    "        * Repeat across epochs within a dataset"
   ]
  },
  {
   "cell_type": "markdown",
   "id": "626250d1-0157-4880-9aee-08cb5dd71831",
   "metadata": {},
   "source": [
    "# Exercise 1: Write a program to print _N_ integers in descending order in increments of 3 using a WHILE loop."
   ]
  },
  {
   "cell_type": "code",
   "execution_count": null,
   "id": "fec58dda-7aac-486f-b1b1-3ccc50f99cce",
   "metadata": {},
   "outputs": [],
   "source": []
  },
  {
   "cell_type": "markdown",
   "id": "cf6b0676-5633-414d-bf94-a46a507fd8e3",
   "metadata": {},
   "source": [
    "# Exercise 2: Write a FOR loop so that every item in the list is printed."
   ]
  },
  {
   "cell_type": "code",
   "execution_count": 1,
   "id": "d613b5e1-409e-4b0d-8f7f-4b58ac13f8a9",
   "metadata": {},
   "outputs": [],
   "source": [
    "lst = ['frontal','parietal','occipital','temporal','brainstem','cerebellum','basal_ganglia']"
   ]
  },
  {
   "cell_type": "markdown",
   "id": "f3f95051-25b3-4a6f-a9d2-b3edb32bdef5",
   "metadata": {},
   "source": [
    "# Exercise 3: Write a FOR loop that iterates through a string and prints every letter."
   ]
  },
  {
   "cell_type": "code",
   "execution_count": 3,
   "id": "74496f25-c656-40f1-ae3e-413484e4e0ca",
   "metadata": {},
   "outputs": [],
   "source": [
    "string = 'hogeveen'"
   ]
  },
  {
   "cell_type": "markdown",
   "id": "30538ef9-e20b-462c-9d94-e129251a8d3b",
   "metadata": {},
   "source": [
    "# Exercise 4: Write a FOR loop which appends the square of each number to a new list."
   ]
  },
  {
   "cell_type": "code",
   "execution_count": 4,
   "id": "92157453-6fc5-4f5f-9098-cbad9081bc3a",
   "metadata": {},
   "outputs": [],
   "source": [
    "lst1 = [1,3,6,9,12,15,18]\n",
    "lst2 = []"
   ]
  },
  {
   "cell_type": "markdown",
   "id": "bf94026c-1ebc-4c64-bdf3-4817b3db4ce6",
   "metadata": {},
   "source": [
    "# Exercise 5: Write a FOR loop to add 'Dr' to each name and append to a new list."
   ]
  },
  {
   "cell_type": "code",
   "execution_count": 5,
   "id": "b4c25399-df8f-45be-a0c1-1a0c078a1b29",
   "metadata": {},
   "outputs": [],
   "source": [
    "lst1 = ['Phelps','Farah','Cai','Tye','Josselyn','Witkiewitz','Olson']\n",
    "lst2 = []"
   ]
  },
  {
   "cell_type": "markdown",
   "id": "a115f4d1-6053-40cb-a755-12ead2ef756e",
   "metadata": {},
   "source": [
    "# Exercise 6: Find the sum of numbers in a list using FOR loop"
   ]
  },
  {
   "cell_type": "code",
   "execution_count": null,
   "id": "37330b61-04a9-4594-96dd-a738b9835912",
   "metadata": {},
   "outputs": [],
   "source": []
  }
 ],
 "metadata": {
  "kernelspec": {
   "display_name": "Python 3",
   "language": "python",
   "name": "python3"
  },
  "language_info": {
   "codemirror_mode": {
    "name": "ipython",
    "version": 3
   },
   "file_extension": ".py",
   "mimetype": "text/x-python",
   "name": "python",
   "nbconvert_exporter": "python",
   "pygments_lexer": "ipython3",
   "version": "3.8.8"
  }
 },
 "nbformat": 4,
 "nbformat_minor": 5
}
