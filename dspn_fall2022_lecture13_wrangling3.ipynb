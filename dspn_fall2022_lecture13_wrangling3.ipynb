{
 "cells": [
  {
   "cell_type": "markdown",
   "metadata": {},
   "source": [
    "# Data Science in Psychology & Neuroscience (DSPN): \n",
    "\n",
    "## Lecture 13. Data Wrangling (part 3)\n",
    "\n",
    "### Date: October 4, 2022\n",
    "\n",
    "### To-Dos From Last Class:\n",
    "\n",
    "* Download \"imitation inhibition\" task data from <a href=\"https://github.com/hogeveen-lab/DSPN_Fall2022_Git/tree/master/misc_exercises/imitation_inhibition_paradigm\">Github</a>\n",
    "* Download <a href=\"https://github.com/hogeveen-lab/DSPN_Fall2022_Git/tree/master/assignment_starters/assign3_starter\">Assignment #3 starter kit</a>\n",
    "\n",
    "### Today:\n",
    "\n",
    "* Wrangle some real data\n",
    "\n",
    "### Homework\n",
    "* Submit Assignment #3: <a href=\"https://www.dropbox.com/request/5tyrxS7O80R8XD2qLbx5\">Data Wrangling</a> (before 10/13, 23:00 MDT)\n",
    "* Open R Studio from anaconda (optional: <a href=\"https://richpauloo.github.io/2018-05-16-Installing-the-R-kernel-in-Jupyter-Lab/\">set up an R Kernel to stay in Jupyter</a>; warning: can come with some package installation headaches!)"
   ]
  },
  {
   "cell_type": "markdown",
   "metadata": {},
   "source": [
    "# Importing packages"
   ]
  },
  {
   "cell_type": "code",
   "execution_count": null,
   "metadata": {},
   "outputs": [],
   "source": []
  },
  {
   "cell_type": "markdown",
   "metadata": {},
   "source": [
    "# Setting up the filepaths"
   ]
  },
  {
   "cell_type": "code",
   "execution_count": null,
   "metadata": {},
   "outputs": [],
   "source": []
  },
  {
   "cell_type": "markdown",
   "metadata": {},
   "source": [
    "# Loading in a test subject to make sense of things"
   ]
  },
  {
   "cell_type": "code",
   "execution_count": null,
   "metadata": {},
   "outputs": [],
   "source": []
  },
  {
   "cell_type": "markdown",
   "metadata": {},
   "source": [
    "# Iterating through to get all first level data, concatenating into a single data frame"
   ]
  },
  {
   "cell_type": "code",
   "execution_count": null,
   "metadata": {},
   "outputs": [],
   "source": []
  },
  {
   "cell_type": "markdown",
   "metadata": {},
   "source": [
    "# Loading in the questionnaire data and merging it with behavioral data"
   ]
  },
  {
   "cell_type": "code",
   "execution_count": null,
   "metadata": {},
   "outputs": [],
   "source": []
  },
  {
   "cell_type": "markdown",
   "metadata": {},
   "source": [
    "# Writing the observation-level data to a big csv"
   ]
  },
  {
   "cell_type": "code",
   "execution_count": null,
   "metadata": {},
   "outputs": [],
   "source": []
  },
  {
   "cell_type": "markdown",
   "metadata": {},
   "source": [
    "## Quick tangent: Automatic Imitation Task\n",
    "\n",
    "<img src=\"img/ait_task.png\">\n",
    "\n",
    "* __MAIN OUTCOME: HOW DO THE DIFFERENT CONGRUENT VS. INCONGRUENT CONDIS SLOW YOUR RESPONSE TIME?__"
   ]
  },
  {
   "cell_type": "markdown",
   "metadata": {},
   "source": [
    "# Computing SECOND-level summary measures (mean RT by pid)"
   ]
  },
  {
   "cell_type": "code",
   "execution_count": null,
   "metadata": {},
   "outputs": [],
   "source": []
  },
  {
   "cell_type": "markdown",
   "metadata": {},
   "source": [
    "# Computing SECOND-level summary measures (mean RT by pid by condition)"
   ]
  },
  {
   "cell_type": "code",
   "execution_count": null,
   "metadata": {},
   "outputs": [],
   "source": []
  },
  {
   "cell_type": "markdown",
   "metadata": {},
   "source": [
    "# Writing the subject-level RT data to a CSV"
   ]
  },
  {
   "cell_type": "code",
   "execution_count": null,
   "metadata": {},
   "outputs": [],
   "source": []
  },
  {
   "cell_type": "code",
   "execution_count": null,
   "metadata": {},
   "outputs": [],
   "source": []
  }
 ],
 "metadata": {
  "kernelspec": {
   "display_name": "Python 3",
   "language": "python",
   "name": "python3"
  },
  "language_info": {
   "codemirror_mode": {
    "name": "ipython",
    "version": 3
   },
   "file_extension": ".py",
   "mimetype": "text/x-python",
   "name": "python",
   "nbconvert_exporter": "python",
   "pygments_lexer": "ipython3",
   "version": "3.8.8"
  }
 },
 "nbformat": 4,
 "nbformat_minor": 4
}
