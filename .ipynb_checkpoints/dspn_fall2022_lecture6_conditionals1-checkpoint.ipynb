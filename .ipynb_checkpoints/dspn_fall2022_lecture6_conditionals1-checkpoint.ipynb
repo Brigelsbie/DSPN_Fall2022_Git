{
 "cells": [
  {
   "cell_type": "markdown",
   "metadata": {},
   "source": [
    "# Data Science in Psychology & Neuroscience (DSPN): \n",
    "\n",
    "## Lecture 6. Conditionals\n",
    "\n",
    "### Date: September 8, 2022\n",
    "\n",
    "### To-Dos From Last Class:\n",
    "\n",
    "* Submit Assignment #1: <a href=\"https://www.dropbox.com/request/6xn5dVMbckJnyq61RPvd\">Oscillator</a> (before 9/13, 23:00 MDT)\n",
    "\n",
    "### Today:\n",
    "\n",
    "* if\n",
    "* elif\n",
    "* else\n",
    "* Multiple criteria (Boolean operators)\n",
    "* Conditionals+iterations\n",
    "\n",
    "### Homework\n",
    "\n",
    "* Practice practice practice (<a href=\"https://www.w3resource.com/python-exercises/python-conditional-statements-and-loop-exercises.php\">e.g.</a>)"
   ]
  },
  {
   "cell_type": "markdown",
   "metadata": {},
   "source": [
    "# Conditionals: IF\n",
    "\n",
    "* __IF__ statements check for a condition, and only execute a set of code if the condition is _True_.\n",
    "    * What type of logic is this?\n",
    "* Boolean logic: \n",
    "    * Based on Boolean algebra, foundation of digital tech and all programming languages\n",
    "    * Boolean algebra evaluates the truth value of a given statement\n",
    "* Can use __IF__ in isolation when you want a _single_ output solution.\n",
    "    * If true, do this\n",
    "    * Otherwise, do nothing"
   ]
  },
  {
   "cell_type": "code",
   "execution_count": 9,
   "metadata": {},
   "outputs": [
    {
     "name": "stdout",
     "output_type": "stream",
     "text": [
      "This code executes if the condition evaluates as True.\n"
     ]
    }
   ],
   "source": [
    "condition = True\n",
    "\n",
    "if condition:\n",
    "    print('This code executes if the condition evaluates as True.')\n"
   ]
  },
  {
   "cell_type": "code",
   "execution_count": 12,
   "metadata": {},
   "outputs": [
    {
     "name": "stdout",
     "output_type": "stream",
     "text": [
      "All trials probably present in df\n"
     ]
    }
   ],
   "source": [
    "participants = 64\n",
    "trials = 240\n",
    "\n",
    "df_length = 15360\n",
    "\n",
    "if (participants*trials) == df_length:\n",
    "    print('All trials probably present in df')"
   ]
  },
  {
   "cell_type": "code",
   "execution_count": 16,
   "metadata": {},
   "outputs": [
    {
     "name": "stdout",
     "output_type": "stream",
     "text": [
      "the marriage will last!\n"
     ]
    }
   ],
   "source": [
    "favorite_tv = ['the_wire','breaking_bad','ithinkyoushouldleave','community']\n",
    "wifes_favorite = 'ithinkyoushouldleave'\n",
    "\n",
    "if wifes_favorite in favorite_tv:\n",
    "    print('the marriage will last!')"
   ]
  },
  {
   "cell_type": "markdown",
   "metadata": {},
   "source": [
    "# Conditionals: ELSE\n",
    "\n",
    "* __ELSE__ statements always appear after an __IF__, and explicitly define an alternative action plan. \n",
    "* A simple __IF then ELSE__ sequence is useful if you are looking for a solution with _two_ possible outputs."
   ]
  },
  {
   "cell_type": "code",
   "execution_count": 18,
   "metadata": {},
   "outputs": [
    {
     "name": "stdout",
     "output_type": "stream",
     "text": [
      "This code executs if the condition evaluates as False.\n"
     ]
    }
   ],
   "source": [
    "condition = False\n",
    "\n",
    "if condition:\n",
    "        print('This code executes if the condition evaluates as True.')\n",
    "else:\n",
    "    print('This code executs if the condition evaluates as False.')\n",
    "            "
   ]
  },
  {
   "cell_type": "code",
   "execution_count": 19,
   "metadata": {},
   "outputs": [
    {
     "name": "stdout",
     "output_type": "stream",
     "text": [
      "You are missing some trials !!!!!!!!!\n"
     ]
    }
   ],
   "source": [
    "participants = 64\n",
    "trials = 240\n",
    "\n",
    "df_length = 15320\n",
    "\n",
    "if (participants*trials) == df_length:\n",
    "    print('All trials probably present in df')\n",
    "else:\n",
    "    print('You are missing some trials !!!!!!!!!')"
   ]
  },
  {
   "cell_type": "code",
   "execution_count": 21,
   "metadata": {},
   "outputs": [
    {
     "name": "stdout",
     "output_type": "stream",
     "text": [
      "The marriage is doomed !!!\n"
     ]
    }
   ],
   "source": [
    "favorite_tv = ['the_wire','breaking_bad','ithinkyoushouldleave','community']\n",
    "wifes_favorite = 'the_office'\n",
    "\n",
    "if wifes_favorite in favorite_tv:\n",
    "    print('the marriage will last!')\n",
    "else:\n",
    "    print('The marriage is doomed !!!')\n"
   ]
  },
  {
   "cell_type": "markdown",
   "metadata": {},
   "source": [
    "# Conditionals: ELIF\n",
    "\n",
    "* When the solution requires >2 possible outputs, any number of __ELIF__ (aka __ELSEIF__ in MATLAB, __ELSE IF__ in R) statements can be chained together _after_ an __IF__.\n",
    "* A subsequent __ELSE__ is not required, but if you leave it out then the code will return nothing if both __IF__ and __ELIF__ are not _True_.\n",
    "* __ELIF__ after __ELSE__ does not make sense.\n"
   ]
  },
  {
   "cell_type": "code",
   "execution_count": 29,
   "metadata": {},
   "outputs": [
    {
     "name": "stdout",
     "output_type": "stream",
     "text": [
      "decent chance.\n"
     ]
    }
   ],
   "source": [
    "favorite_tv = ['the_wire','breaking_bad','ithinkyoushouldleave','community']\n",
    "pretty_enjoyable = ['the_office','daily_show','top_chef']\n",
    "wifes_favorite = 'the_office'\n",
    "\n",
    "if wifes_favorite in favorite_tv:\n",
    "    print('all good1')\n",
    "elif wifes_favorite in pretty_enjoyable:\n",
    "    print('decent chance.')\n",
    "else:\n",
    "    print('we are doomed!')"
   ]
  },
  {
   "cell_type": "code",
   "execution_count": 33,
   "metadata": {},
   "outputs": [
    {
     "name": "stdout",
     "output_type": "stream",
     "text": [
      "all trials present in df\n"
     ]
    }
   ],
   "source": [
    "participants = 64\n",
    "trials = 240\n",
    "df_length = 15360\n",
    "\n",
    "if (participants*trials) == df_length:\n",
    "    print('all trials present in df')\n",
    "elif (participants*trials) > df_length:\n",
    "    print('missing some trials')\n",
    "elif (participants*trials) < df_length:\n",
    "    print('you have repeated trials')\n",
    "else:\n",
    "    print('something is messed up.')"
   ]
  },
  {
   "cell_type": "markdown",
   "metadata": {},
   "source": [
    "# Multiple criteria to be satisfied (add Boolean operators)\n",
    "\n",
    "* When using these, think how you use Google search \n",
    "    * \"Portobello burger\" AND \"soy sauce\"\n",
    "    * \"Portobello burger\" OR \"seitan burger\"\n",
    "    * \"Portoboello burger\" NOT \"balsamic vinegar\"\n",
    "* __AND__ can be used when multiple criteria must be satisfied to return a given output."
   ]
  },
  {
   "cell_type": "code",
   "execution_count": 36,
   "metadata": {},
   "outputs": [
    {
     "name": "stdout",
     "output_type": "stream",
     "text": [
      "A early\n"
     ]
    }
   ],
   "source": [
    "stim_a = 1\n",
    "stim_b = 2\n",
    "trial_num = 2\n",
    "\n",
    "response = 1\n",
    "\n",
    "if response == stim_a and trial_num < 3:\n",
    "    print('A early')\n",
    "elif response == stim_b and trial_num < 3:\n",
    "    print('B early')\n",
    "else:\n",
    "    print('it was a late trial')"
   ]
  },
  {
   "cell_type": "markdown",
   "metadata": {},
   "source": [
    "* __OR__ can be used when any of the listed criteria can be satisfied to return a given output."
   ]
  },
  {
   "cell_type": "code",
   "execution_count": 38,
   "metadata": {},
   "outputs": [
    {
     "name": "stdout",
     "output_type": "stream",
     "text": [
      "remove that trial from analysis\n"
     ]
    }
   ],
   "source": [
    "no_resp = 999\n",
    "wrong_resp = 0\n",
    "corr_resp = 1\n",
    "\n",
    "curr_trial = 999\n",
    "\n",
    "if curr_trial == no_resp or wrong_resp:\n",
    "    print('remove that trial from analysis')\n",
    "else:\n",
    "    print('keep trial in analysis')"
   ]
  },
  {
   "cell_type": "markdown",
   "metadata": {},
   "source": [
    "# Conditional expressions within a FOR loop\n",
    "\n",
    "* Sometimes, you might want to iterate over something and make decisions as you go"
   ]
  },
  {
   "cell_type": "code",
   "execution_count": 46,
   "metadata": {},
   "outputs": [
    {
     "name": "stdout",
     "output_type": "stream",
     "text": [
      "1 is an example of Condition B\n",
      "iterate this but if does not care\n",
      "2 is an example of Condition A\n",
      "iterate this but if does not care\n",
      "3 is an example of Condition B\n",
      "iterate this but if does not care\n",
      "4 is an example of Condition A\n",
      "iterate this but if does not care\n",
      "5 is an example of Condition B\n",
      "iterate this but if does not care\n",
      "6 is an example of Condition A\n",
      "iterate this but if does not care\n",
      "7 is an example of Condition B\n",
      "iterate this but if does not care\n",
      "8 is an example of Condition A\n",
      "iterate this but if does not care\n",
      "9 is an example of Condition B\n",
      "iterate this but if does not care\n",
      "10 is an example of Condition A\n",
      "iterate this but if does not care\n"
     ]
    }
   ],
   "source": [
    "for i in range(1,11):\n",
    "    if (i%2)==0:\n",
    "        print(i,'is an example of Condition A')\n",
    "    elif (i%2)!=0:\n",
    "        print(i,'is an example of Condition B')\n",
    "\n",
    "    print('iterate this but if does not care')"
   ]
  },
  {
   "cell_type": "markdown",
   "metadata": {},
   "source": [
    "__E.g.: create two random 10-number integer arrays from 0-100. For each pair of integers, if they are both over or under 50 return the number 1, otherwise return 0__"
   ]
  },
  {
   "cell_type": "code",
   "execution_count": null,
   "metadata": {},
   "outputs": [],
   "source": []
  }
 ],
 "metadata": {
  "kernelspec": {
   "display_name": "Python 3",
   "language": "python",
   "name": "python3"
  },
  "language_info": {
   "codemirror_mode": {
    "name": "ipython",
    "version": 3
   },
   "file_extension": ".py",
   "mimetype": "text/x-python",
   "name": "python",
   "nbconvert_exporter": "python",
   "pygments_lexer": "ipython3",
   "version": "3.8.8"
  }
 },
 "nbformat": 4,
 "nbformat_minor": 4
}
