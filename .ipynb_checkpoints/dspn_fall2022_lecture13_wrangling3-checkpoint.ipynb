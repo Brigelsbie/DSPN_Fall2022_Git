{
 "cells": [
  {
   "cell_type": "markdown",
   "metadata": {},
   "source": [
    "# Data Science in Psychology & Neuroscience (DSPN): \n",
    "\n",
    "## Lecture 13. Data Wrangling (part 3)\n",
    "\n",
    "### Date: October 4, 2022\n",
    "\n",
    "### To-Dos From Last Class:\n",
    "\n",
    "* Download \"imitation inhibition\" task data from <a href=\"https://github.com/hogeveen-lab/DSPN_Fall2022_Git/tree/master/misc_exercises/imitation_inhibition_paradigm\">Github</a>\n",
    "* Download <a href=\"https://github.com/hogeveen-lab/DSPN_Fall2022_Git/tree/master/assignment_starters/assign3_starter\">Assignment #3 starter kit</a>\n",
    "\n",
    "### Today:\n",
    "\n",
    "* Wrangle some real data\n",
    "\n",
    "### Homework\n",
    "* Submit Assignment #3: <a href=\"https://www.dropbox.com/request/5tyrxS7O80R8XD2qLbx5\">Data Wrangling</a> (before 10/13, 23:00 MDT)\n",
    "* Open R Studio from anaconda (optional: <a href=\"https://richpauloo.github.io/2018-05-16-Installing-the-R-kernel-in-Jupyter-Lab/\">set up an R Kernel to stay in Jupyter</a>; warning: can come with some package installation headaches!)"
   ]
  },
  {
   "cell_type": "markdown",
   "metadata": {},
   "source": [
    "# Importing packages"
   ]
  },
  {
   "cell_type": "code",
   "execution_count": 71,
   "metadata": {},
   "outputs": [],
   "source": [
    "### Part 1 --> Importing data wrangling packages I often use\n",
    "import os\n",
    "from glob import glob # only need the glob subpackage from glob\n",
    "import numpy as np\n",
    "import pandas as pd\n",
    "pd.options.mode.chained_assignment = None\n",
    "#add...\n",
    "import matplotlib.pyplot as plt"
   ]
  },
  {
   "cell_type": "markdown",
   "metadata": {},
   "source": [
    "# Setting up the filepaths"
   ]
  },
  {
   "cell_type": "code",
   "execution_count": 72,
   "metadata": {},
   "outputs": [],
   "source": [
    "# get current working directory\n",
    "base_dir = os.getcwd()\n",
    "# base_dir = os.path.dirname(os.getcwd()) # note: This goes up above script's directory one step in the filepath, often useful!\n",
    "\n",
    "# Go above current working directory and\n",
    "first_dir = os.path.join(base_dir,'misc_exercises/imitation_inhibition_paradigm/data/first') #misc_exercises/ for git\n",
    "P_file_pattern = 'P*.txt'\n",
    "second_dir = os.path.join(base_dir,'misc_exercises/imitation_inhibition_paradigm/data/second')\n",
    "questionnaire_file = os.path.join(second_dir,'ait_questionnaires.csv')\n",
    "\n",
    "# Using glob to find all participant data files\n",
    "all_files = glob(os.path.join(first_dir,P_file_pattern))"
   ]
  },
  {
   "cell_type": "markdown",
   "metadata": {},
   "source": [
    "# Loading in a test subject to make sense of things"
   ]
  },
  {
   "cell_type": "code",
   "execution_count": 73,
   "metadata": {},
   "outputs": [
    {
     "name": "stdout",
     "output_type": "stream",
     "text": [
      "How many rows in initial loaded data frame: 521\n",
      "How many rows in key release filtered data frame: 101\n",
      "How many rows in no-double-response filtered data frame: 100\n"
     ]
    }
   ],
   "source": [
    "# Reading in the data\n",
    "sample_df = pd.read_csv(all_files[0], skiprows=5, sep='\\t')\n",
    "print('How many rows in initial loaded data frame:',len(sample_df)) # What things might cause this to not == 100?\n",
    "\n",
    "\n",
    "# Filtering the data down to just the experimental block rows\n",
    "sample_df = sample_df[sample_df['Name.1']==\"AI_Block\"]\n",
    "\n",
    "# Filtering the dataframe down to RELEASES\n",
    "sample_df_releases = sample_df[sample_df['Released']=='Released']\n",
    "\n",
    "# How many key release responses do we have?\n",
    "print('How many rows in key release filtered data frame:',len(sample_df_releases))\n",
    "\n",
    "# Identifying double responses\n",
    "sample_df_releases['shift'] = sample_df_releases['Name.2'].shift(1)\n",
    "# display(sample_df_releases[['Name.2','shift']])\n",
    "\n",
    "# filter down to only the first response\n",
    "sample_df_releases['double_response'] = np.where(sample_df_releases['shift']==sample_df_releases['Name.2'],1,0)\n",
    "double_resp_df = sample_df_releases[sample_df_releases['double_response']==1]\n",
    "# display(double_resp_df[['Name.2','shift','double_response']])\n",
    "\n",
    "# Filtering our double response trials\n",
    "sample_df_releases_nodouble = sample_df_releases[sample_df_releases['double_response']==0] \n",
    "print('How many rows in no-double-response filtered data frame:',len(sample_df_releases_nodouble))"
   ]
  },
  {
   "cell_type": "markdown",
   "metadata": {},
   "source": [
    "# Iterating through to get all first level data, concatenating into a single data frame"
   ]
  },
  {
   "cell_type": "code",
   "execution_count": 34,
   "metadata": {},
   "outputs": [
    {
     "name": "stdout",
     "output_type": "stream",
     "text": [
      "the participant counter from our loop: 48 should be roughly equivalent to our # of rows / 100: 47.45\n"
     ]
    }
   ],
   "source": [
    "# Setting up a pid counter to count iterations, also a blank pandas data frame\n",
    "dfs_list = [] # creating a list of pandas objects, lists can store a bunch of stuff for use within python!\n",
    "\n",
    "# iterating through all the files\n",
    "pid_counter = 0 # used to make sure we read in (48) subjects\n",
    "for cur_file in all_files:\n",
    "    # update pid count\n",
    "    pid_counter+=1\n",
    "    # Pull all the wrangling lines from our sample run...\n",
    "    cur_df = pd.read_csv(cur_file, skiprows=5, sep='\\t') # read CSV\n",
    "    cur_df_releases = cur_df[(cur_df['Released']=='Released') & (cur_df['Name.1']==\"AI_Block\")] # filter to releases and exp block\n",
    "    cur_df_releases['double_response'] = np.where(cur_df_releases['Name.2'].shift(1)==cur_df_releases['Name.2'], 1, 0) # finding double responses with shift in same line!\n",
    "    cur_df_releases_nodouble = cur_df_releases[cur_df_releases['double_response']==0] # filtering out double responses\n",
    "    # Appending all the data into a data frame\n",
    "    dfs_list.append(cur_df_releases_nodouble)\n",
    "\n",
    "# Concatenate all DFs together along the row axis\n",
    "allsubs_df = pd.concat(dfs_list, axis=0)\n",
    "\n",
    "# Checking what we got and making sure it makes sense given how many trials we should have\n",
    "# print(dfs_list)\n",
    "# display(allsubs_df.head())\n",
    "print('the participant counter from our loop:',\n",
    "      pid_counter,\n",
    "      'should be roughly equivalent to our # of rows / 100:',\n",
    "      allsubs_df['Congruence'].count() / 100)"
   ]
  },
  {
   "cell_type": "markdown",
   "metadata": {},
   "source": [
    "# Loading in the questionnaire data and merging it with behavioral data"
   ]
  },
  {
   "cell_type": "code",
   "execution_count": 35,
   "metadata": {},
   "outputs": [],
   "source": [
    "# Reading in the questionnaire data\n",
    "questionnaire_df = pd.read_csv(questionnaire_file)\n",
    "\n",
    "# renaming pid column in data frame -- to match the questionnaire pid column\n",
    "allsubs_df = allsubs_df.rename(columns={\"Name\": \"pid\"})\n",
    "\n",
    "# Merging the quests and main df\n",
    "allsubs_df = pd.merge(allsubs_df,questionnaire_df,how='outer',on='pid')\n",
    "# display(allsubs_df)"
   ]
  },
  {
   "cell_type": "markdown",
   "metadata": {},
   "source": [
    "# Writing the observation-level data to a big csv"
   ]
  },
  {
   "cell_type": "code",
   "execution_count": 14,
   "metadata": {},
   "outputs": [],
   "source": [
    "# Writing the data to a second-level data frame that we will eventually play with in R\n",
    "out_filename = os.path.join(second_dir,'ait_trialwise.csv')\n",
    "allsubs_df.to_csv(out_filename,index=False)"
   ]
  },
  {
   "cell_type": "markdown",
   "metadata": {},
   "source": [
    "## Quick tangent: Automatic Imitation Task\n",
    "\n",
    "<img src=\"img/ait_task.png\">\n",
    "\n",
    "* __MAIN OUTCOME: HOW DO THE DIFFERENT CONGRUENT VS. INCONGRUENT CONDIS SLOW YOUR RESPONSE TIME?__"
   ]
  },
  {
   "cell_type": "markdown",
   "metadata": {},
   "source": [
    "# Computing SECOND-level summary measures (mean RT by pid)"
   ]
  },
  {
   "cell_type": "code",
   "execution_count": 83,
   "metadata": {},
   "outputs": [
    {
     "data": {
      "image/png": "[encoded data removed]",
      "text/plain": [
       "<Figure size 360x576 with 1 Axes>"
      ]
     },
     "metadata": {
      "needs_background": "light"
     },
     "output_type": "display_data"
    }
   ],
   "source": [
    "# converting condition names to a sensible string\n",
    "# allsubs_df.head()\n",
    "# print(allsubs_df[allsubs_df['Congruence']==2].head())\n",
    "allsubs_df['strCondition'] = np.where(allsubs_df['Congruence']==0, 'baseline',\n",
    "                                      np.where(allsubs_df['Congruence']==1, 'eff_con',\n",
    "                                               np.where(allsubs_df['Congruence']==2, 'eff_inc',\n",
    "                                                        np.where(allsubs_df['Congruence']==3, 'move_con',\n",
    "                                                                 np.where(allsubs_df['Congruence']==4, 'move_inc','NA')))))\n",
    "# print(allsubs_df[allsubs_df['strCondition']=='NA']) # should be empty\n",
    "\n",
    "# computing mean RT by pid\n",
    "mean_rt = allsubs_df.groupby('pid')['Time'].mean()\n",
    "# print(mean_rt)\n",
    "plt.boxplot(mean_rt)\n",
    "plt.xlabel('All Subjects')\n",
    "plt.ylabel('Mean RT (ms)')\n",
    "plt.grid(b=True,color='blue',alpha=0.2,linestyle=':',linewidth=2)\n",
    "plt.rcParams.update({'font.size': 16})\n",
    "plt.rcParams['figure.figsize'] = [5,8]\n",
    "plt.show()"
   ]
  },
  {
   "cell_type": "markdown",
   "metadata": {},
   "source": [
    "# Computing subject-level summary measures (mean RT by pid by condition)"
   ]
  },
  {
   "cell_type": "code",
   "execution_count": 87,
   "metadata": {},
   "outputs": [
    {
     "data": {
      "image/png": "[encoded data removed]",
      "text/plain": [
       "<Figure size 576x576 with 1 Axes>"
      ]
     },
     "metadata": {
      "needs_background": "light"
     },
     "output_type": "display_data"
    }
   ],
   "source": [
    "# computing mean RT by pid by condition\n",
    "mean_cdn_rt = allsubs_df.groupby(['pid','strCondition'])['Time'].mean().unstack()\n",
    "# display(mean_cdn_rt)\n",
    "# plotting figure\n",
    "plot = mean_cdn_rt.boxplot()\n",
    "plt.xticks(rotation = 45)\n",
    "plt.xlabel('Conditions')\n",
    "plt.ylabel('Mean RT (ms)')\n",
    "plt.grid(b=True,color='blue',alpha=0.2,linestyle=':',linewidth=2)\n",
    "plt.rcParams.update({'font.size': 16})\n",
    "plt.rcParams['figure.figsize'] = [8,8]\n",
    "plt.show()"
   ]
  },
  {
   "cell_type": "markdown",
   "metadata": {},
   "source": [
    "# Writing the subject-level RT data to a CSV"
   ]
  },
  {
   "cell_type": "code",
   "execution_count": 69,
   "metadata": {},
   "outputs": [],
   "source": [
    "# Writing the data to a second-level data frame that we will eventually play with in R\n",
    "subj_out_filename = os.path.join(second_dir,'ait_subjectlevel.csv')\n",
    "mean_cdn_rt.to_csv(subj_out_filename,index=True)"
   ]
  },
  {
   "cell_type": "code",
   "execution_count": null,
   "metadata": {},
   "outputs": [],
   "source": []
  }
 ],
 "metadata": {
  "kernelspec": {
   "display_name": "Python 3",
   "language": "python",
   "name": "python3"
  },
  "language_info": {
   "codemirror_mode": {
    "name": "ipython",
    "version": 3
   },
   "file_extension": ".py",
   "mimetype": "text/x-python",
   "name": "python",
   "nbconvert_exporter": "python",
   "pygments_lexer": "ipython3",
   "version": "3.8.8"
  }
 },
 "nbformat": 4,
 "nbformat_minor": 4
}
