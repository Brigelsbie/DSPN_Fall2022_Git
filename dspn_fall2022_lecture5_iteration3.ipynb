{
 "cells": [
  {
   "cell_type": "markdown",
   "metadata": {},
   "source": [
    "# Data Science in Psychology & Neuroscience (DSPN): \n",
    "\n",
    "## Lecture 5. Oscillator\n",
    "\n",
    "### Date: September 6, 2022\n",
    "\n",
    "### To-Dos From Last Class:\n",
    "\n",
    "* Downloaded oscillator starter kit from <a href=\"https://github.com/hogeveen-lab/DSPN_Fall2020_git\">github</a>\n",
    "\n",
    "### Today:\n",
    "\n",
    "* Complete spreadsheet version of the oscillator\n",
    "* Set up conversion to Python\n",
    "\n",
    "### Homework\n",
    "\n",
    "* Submit Assignment #1: <a href=\"https://www.dropbox.com/request/6xn5dVMbckJnyq61RPvd\">Oscillator</a> (before 9/13, 23:00 MDT)\n"
   ]
  },
  {
   "cell_type": "markdown",
   "metadata": {},
   "source": [
    "# Background"
   ]
  },
  {
   "cell_type": "code",
   "execution_count": null,
   "metadata": {},
   "outputs": [],
   "source": []
  }
 ],
 "metadata": {
  "kernelspec": {
   "display_name": "Python 3",
   "language": "python",
   "name": "python3"
  },
  "language_info": {
   "codemirror_mode": {
    "name": "ipython",
    "version": 3
   },
   "file_extension": ".py",
   "mimetype": "text/x-python",
   "name": "python",
   "nbconvert_exporter": "python",
   "pygments_lexer": "ipython3",
   "version": "3.8.8"
  }
 },
 "nbformat": 4,
 "nbformat_minor": 4
}
